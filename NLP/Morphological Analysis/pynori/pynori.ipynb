{
 "cells": [
  {
   "cell_type": "code",
   "execution_count": 3,
   "id": "256b4108",
   "metadata": {},
   "outputs": [
    {
     "name": "stdout",
     "output_type": "stream",
     "text": [
      "Collecting pynori\n",
      "  Downloading pynori-0.2.4-py3-none-any.whl (42.3 MB)\n",
      "Requirement already satisfied: cython in c:\\users\\jyshin\\anaconda3\\lib\\site-packages (from pynori) (0.29.24)\n",
      "Installing collected packages: pynori\n",
      "Successfully installed pynori-0.2.4\n"
     ]
    }
   ],
   "source": [
    "# nori 설치\n",
    "!pip install pynori"
   ]
  },
  {
   "cell_type": "code",
   "execution_count": 11,
   "id": "d9798ba9",
   "metadata": {},
   "outputs": [],
   "source": [
    "from pynori.korean_analyzer import KoreanAnalyzer\n",
    "from pynori.pos import POS\n",
    "\n",
    "nori = KoreanAnalyzer(\n",
    "           decompound_mode='DISCARD', # DISCARD or MIXED or NONE\n",
    "           infl_decompound_mode='DISCARD', # DISCARD or MIXED or NONE\n",
    "           discard_punctuation=True,\n",
    "           output_unknown_unigrams=False,\n",
    "           pos_filter=False, stop_tags=['JKS', 'JKB', 'VV', 'EF'],\n",
    "           synonym_filter=False, mode_synonym='NORM', # NORM or EXTENSION\n",
    "       ) "
   ]
  },
  {
   "cell_type": "code",
   "execution_count": 7,
   "id": "df8dae4d",
   "metadata": {},
   "outputs": [],
   "source": [
    "# example sentence\n",
    "sentence = ['저도 콰이강의 다리는 창원의 새로운 핫플레이스다.',\n",
    "           '2017년 3월 개장한 이후 163만 명이 다녀갈 정도로(2019.11월 기준) 폭발적인 사랑을 받고 있다.',\n",
    "           '본래 이름은 저도연륙교. 길이 170m, 폭 3m 규모의 철제 교량이다.'\n",
    "           ]"
   ]
  },
  {
   "cell_type": "code",
   "execution_count": 12,
   "id": "8fecea2b",
   "metadata": {},
   "outputs": [
    {
     "name": "stdout",
     "output_type": "stream",
     "text": [
      "{'termAtt': ['저', '도', '콰이', '강', '의', '다리', '는', '창원', '의', '새롭', 'ᆫ', '핫', '플레이스', '이', '다'], 'offsetAtt': [(0, 1), (1, 2), (3, 6), (3, 6), (6, 7), (8, 10), (10, 11), (12, 14), (14, 15), (16, 19), (16, 19), (20, 21), (21, 25), (25, 26), (25, 26)], 'posLengthAtt': [1, 1, 1, 1, 1, 1, 1, 1, 1, 1, 1, 1, 1, 1, 1], 'posTypeAtt': ['MORP', 'MORP', 'MORP', 'MORP', 'MORP', 'MORP', 'MORP', 'MORP', 'MORP', 'MORP', 'MORP', 'MORP', 'MORP', 'MORP', 'MORP'], 'posTagAtt': ['NP', 'JX', 'NNP', 'NNG', 'JKG', 'NNG', 'JX', 'NNP', 'JKG', 'VA', 'ETM', 'NNG', 'NNG', 'VCP', 'EF'], 'dictTypeAtt': ['KN', 'KN', 'KN', 'KN', 'KN', 'KN', 'KN', 'KN', 'KN', 'KN', 'KN', 'KN', 'KN', 'KN', 'KN']}\n"
     ]
    }
   ],
   "source": [
    "# nori\n",
    "nori_pos = nori.do_analysis(sentence[0])\n",
    "print(nori_pos)"
   ]
  },
  {
   "cell_type": "code",
   "execution_count": 13,
   "id": "05fabbf3",
   "metadata": {},
   "outputs": [
    {
     "name": "stdout",
     "output_type": "stream",
     "text": [
      "{'termAtt': ['2017', '년', '3', '월', '개장', '하', 'ᆫ', '이후', '163', '만', '명', '이', '다녀가', 'ᆯ', '정도', '로', '2019', '11', '월', '기준', '폭발', '적', '이', 'ᆫ', '사랑', '을', '받', '고', '있', '다'], 'offsetAtt': [(0, 4), (4, 5), (6, 7), (7, 8), (9, 11), (11, 12), (11, 12), (13, 15), (16, 19), (19, 20), (21, 22), (22, 23), (24, 27), (24, 27), (28, 30), (30, 31), (32, 36), (37, 39), (39, 40), (41, 43), (45, 47), (47, 48), (48, 49), (48, 49), (50, 52), (52, 53), (54, 55), (55, 56), (57, 58), (58, 59)], 'posLengthAtt': [1, 1, 1, 1, 1, 1, 1, 1, 1, 1, 1, 1, 1, 1, 1, 1, 1, 1, 1, 1, 1, 1, 1, 1, 1, 1, 1, 1, 1, 1], 'posTypeAtt': ['MORP', 'MORP', 'MORP', 'MORP', 'MORP', 'MORP', 'MORP', 'MORP', 'MORP', 'MORP', 'MORP', 'MORP', 'MORP', 'MORP', 'MORP', 'MORP', 'MORP', 'MORP', 'MORP', 'MORP', 'MORP', 'MORP', 'MORP', 'MORP', 'MORP', 'MORP', 'MORP', 'MORP', 'MORP', 'MORP'], 'posTagAtt': ['SN', 'NNBC', 'SN', 'NNBC', 'NNG', 'XSA', 'ETM', 'NNG', 'SN', 'NR', 'NNBC', 'JKS', 'VV', 'ETM', 'NNG', 'JKB', 'SN', 'SN', 'NNBC', 'NNG', 'NNG', 'XSN', 'VCP', 'ETM', 'NNG', 'JKO', 'VV', 'EC', 'VX', 'EF'], 'dictTypeAtt': ['UKN', 'KN', 'UKN', 'KN', 'KN', 'KN', 'KN', 'KN', 'UKN', 'KN', 'KN', 'KN', 'KN', 'KN', 'KN', 'KN', 'UKN', 'UKN', 'KN', 'KN', 'KN', 'KN', 'KN', 'KN', 'KN', 'KN', 'KN', 'KN', 'KN', 'KN']}\n"
     ]
    }
   ],
   "source": [
    "nori_pos = nori.do_analysis(sentence[1])\n",
    "print(nori_pos)"
   ]
  },
  {
   "cell_type": "code",
   "execution_count": 14,
   "id": "c07c47a7",
   "metadata": {},
   "outputs": [
    {
     "name": "stdout",
     "output_type": "stream",
     "text": [
      "{'termAtt': ['본래', '이름', '은', '저', '도', '연륙', '교', '길', '이', '170', 'm', '폭', '3', 'm', '규모', '의', '철제', '교량', '이', '다'], 'offsetAtt': [(0, 2), (3, 5), (5, 6), (7, 8), (8, 9), (9, 11), (11, 12), (14, 15), (15, 16), (17, 20), (20, 21), (23, 24), (25, 26), (26, 27), (28, 30), (30, 31), (32, 34), (35, 37), (37, 38), (38, 39)], 'posLengthAtt': [1, 1, 1, 1, 1, 1, 1, 1, 1, 1, 1, 1, 1, 1, 1, 1, 1, 1, 1, 1], 'posTypeAtt': ['MORP', 'MORP', 'MORP', 'MORP', 'MORP', 'MORP', 'MORP', 'MORP', 'MORP', 'MORP', 'MORP', 'MORP', 'MORP', 'MORP', 'MORP', 'MORP', 'MORP', 'MORP', 'MORP', 'MORP'], 'posTagAtt': ['NNG', 'NNG', 'JX', 'NP', 'JX', 'NNG', 'NNG', 'NNG', 'JKS', 'SN', 'SL', 'NNG', 'SN', 'SL', 'NNG', 'JKG', 'NNG', 'NNG', 'VCP', 'EF'], 'dictTypeAtt': ['KN', 'KN', 'KN', 'KN', 'KN', 'KN', 'KN', 'KN', 'KN', 'UKN', 'UKN', 'KN', 'UKN', 'UKN', 'KN', 'KN', 'KN', 'KN', 'KN', 'KN']}\n"
     ]
    }
   ],
   "source": [
    "nori_pos = nori.do_analysis(sentence[2])\n",
    "print(nori_pos)"
   ]
  },
  {
   "cell_type": "code",
   "execution_count": null,
   "id": "e74e7402",
   "metadata": {},
   "outputs": [],
   "source": []
  }
 ],
 "metadata": {
  "kernelspec": {
   "display_name": "Python 3 (ipykernel)",
   "language": "python",
   "name": "python3"
  },
  "language_info": {
   "codemirror_mode": {
    "name": "ipython",
    "version": 3
   },
   "file_extension": ".py",
   "mimetype": "text/x-python",
   "name": "python",
   "nbconvert_exporter": "python",
   "pygments_lexer": "ipython3",
   "version": "3.9.7"
  }
 },
 "nbformat": 4,
 "nbformat_minor": 5
}
